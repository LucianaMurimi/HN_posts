{
 "cells": [
  {
   "cell_type": "markdown",
   "metadata": {},
   "source": [
    "# Hacker News Posts\n",
    "**Hacker News** is a site started by the startup incubator **Y Combinator**, where user-submitted stories (known as \"***posts***\") are voted and commented upon, similar to reddit. Hacker News is extremely popular in technology and startup circles, and posts that make it to the top of Hacker News' listings can get hundreds of thousands of visitors as a result.\n",
    "\n",
    "In this project, we're specifically interested in posts whose titles begin with either ***Ask HN*** or **Show HN***. Users submit *Ask HN* posts to ask the Hacker News community a specific question and *Show HN* posts to show the Hacker News community a project, product, or just generally something interesting.\n",
    "\n",
    "The main aim of this project is to therefore find out:\n",
    "- Do **Ask HN** or **Show HN** receive more comments on average?\n",
    "- Do posts created at a certain times receive more comments on average?\n",
    "\n",
    "## Opening and Exploring the Data\n",
    "To save on time and resources, a sample of this data is obtained from Kaggle for analysis. This is the [data set](https://www.kaggle.com/hacker-news/hacker-news-posts) for a duration of 12 months upto September 26 2016:\n",
    "\n",
    "**Opening the data sets:**"
   ]
  },
  {
   "cell_type": "code",
   "execution_count": 2,
   "metadata": {},
   "outputs": [
    {
     "name": "stdout",
     "output_type": "stream",
     "text": [
      "['id', 'title', 'url', 'num_points', 'num_comments', 'author', 'created_at']\n",
      "['12579008', 'You have two days to comment if you want stem cells to be classified as your own', 'http://www.regulations.gov/document?D=FDA-2015-D-3719-0018', '1', '0', 'altstar', '9/26/2016 3:26']\n"
     ]
    }
   ],
   "source": [
    "from csv import reader\n",
    "\n",
    "### Hacker News Posts dataset ###\n",
    "opened_file = open('C:/Users/Luci/Desktop/Data Science/DataQuest/my_datasets/HN_posts.csv', encoding = 'utf8')\n",
    "read_file = reader(opened_file)\n",
    "hn = list(read_file)\n",
    "hn_header = hn[0]\n",
    "hn = hn[1:]\n",
    "\n",
    "print(hn_header)\n",
    "print(hn[0])"
   ]
  },
  {
   "cell_type": "markdown",
   "metadata": {},
   "source": [
    "Filtering the data so that we have only the posts that begin with either 'Ask HN' or 'Show HN'."
   ]
  },
  {
   "cell_type": "code",
   "execution_count": 50,
   "metadata": {},
   "outputs": [
    {
     "name": "stdout",
     "output_type": "stream",
     "text": [
      "['12578908', 'Ask HN: What TLD do you use for local development?', '', '4', '7', 'Sevrene', '9/26/2016 2:53']\n",
      "\n",
      "\n",
      "['12578335', 'Show HN: Finding puns computationally', 'http://puns.samueltaylor.org/', '2', '0', 'saamm', '9/26/2016 0:36']\n",
      "\n",
      "\n",
      "['12579008', 'You have two days to comment if you want stem cells to be classified as your own', 'http://www.regulations.gov/document?D=FDA-2015-D-3719-0018', '1', '0', 'altstar', '9/26/2016 3:26']\n",
      "\n",
      "\n",
      "Length of ASK posts:  9139\n",
      "\n",
      "\n",
      "Length of SHOW posts: 10158\n",
      "\n",
      "\n",
      "Length of other posts: 273822\n",
      "\n",
      "\n"
     ]
    }
   ],
   "source": [
    "# lists to store the posts begining with 'Ask HN', 'Show HN' and others.\n",
    "ask_posts = []\n",
    "show_posts = []\n",
    "other_posts = []\n",
    "\n",
    "for each_row in hn:\n",
    "    title = each_row[1]\n",
    "    title =title.lower()\n",
    "    if title.startswith('ask hn'):\n",
    "        ask_posts.append(each_row)\n",
    "    elif title.startswith('show hn'):\n",
    "        show_posts.append(each_row)\n",
    "    else:\n",
    "        other_posts.append(each_row)\n",
    "\n",
    "len_ask_posts = len(ask_posts)\n",
    "len_show_posts = len(show_posts)\n",
    "len_other_posts = len(other_posts)\n",
    "\n",
    "#checking the filter performance\n",
    "print(ask_posts[0])\n",
    "print('\\n')\n",
    "print(show_posts[0])\n",
    "print('\\n')\n",
    "print(other_posts[0])\n",
    "print('\\n')\n",
    "print('Length of ASK posts: ',len_ask_posts)\n",
    "print('\\n')\n",
    "print('Length of SHOW posts:' , len_show_posts)\n",
    "print('\\n')\n",
    "print('Length of other posts:', len_other_posts)\n",
    "print('\\n')\n",
    "\n",
    "\n",
    "\n"
   ]
  },
  {
   "cell_type": "markdown",
   "metadata": {},
   "source": [
    "## Calculating the average number of comments for ASK HN and SHOW HN posts\n",
    "Determining if *ask posts* or *show posts* receive more comments on average:"
   ]
  },
  {
   "cell_type": "code",
   "execution_count": 10,
   "metadata": {},
   "outputs": [
    {
     "name": "stdout",
     "output_type": "stream",
     "text": [
      "Total ask comments:  94986\n",
      "Average ask comments:  10.393478498741656\n",
      "\n",
      "Total show comments:  49633\n",
      "Average show comments:  4.886099625910612\n"
     ]
    }
   ],
   "source": [
    "# average ask comments\n",
    "total_ask_comments = 0\n",
    "count_ask = 0\n",
    "\n",
    "for each_row in ask_posts:\n",
    "    num_comments = each_row[4]\n",
    "    num_comments = int(num_comments)\n",
    "    total_ask_comments += num_comments\n",
    "    count_ask += 1\n",
    "\n",
    "avg_ask_comments = total_ask_comments / count_ask\n",
    "\n",
    "print('Total ask comments: ', total_ask_comments)\n",
    "print('Average ask comments: ', avg_ask_comments)\n",
    "\n",
    "# average show comments\n",
    "total_show_comments = 0\n",
    "count_show = 0\n",
    "\n",
    "for each_row in show_posts:\n",
    "    num_comments = each_row[4]\n",
    "    num_comments = int(num_comments)\n",
    "    total_show_comments += num_comments\n",
    "    count_show += 1\n",
    "\n",
    "avg_show_comments = total_show_comments / count_show\n",
    "\n",
    "print('\\nTotal show comments: ', total_show_comments)\n",
    "print('Average show comments: ', avg_show_comments)"
   ]
  },
  {
   "cell_type": "markdown",
   "metadata": {},
   "source": [
    "From the above cell, it can be concluded that **ASK HN** posts receive more comments on average than **SHOW HN** posts.\n",
    "\n",
    "Since ASK HN posts are more likely to receive comments, the remaining analysis is focussed just on these posts. "
   ]
  },
  {
   "cell_type": "markdown",
   "metadata": {},
   "source": [
    "## Determining if ASK posts created at a certain time are more likely to attract comments.\n",
    "\n",
    "To perform this analysis, the following steps are followed:\n",
    "1. The amount of ASK posts created in each hour of the day are calculated, along with the number of comments received.\n",
    "2. The average number of comments ask posts receive by hour created is also calculated."
   ]
  },
  {
   "cell_type": "markdown",
   "metadata": {},
   "source": [
    "**1. Calculating the amount of ASK posts and comments by hour created.**\n"
   ]
  },
  {
   "cell_type": "code",
   "execution_count": 21,
   "metadata": {},
   "outputs": [
    {
     "name": "stdout",
     "output_type": "stream",
     "text": [
      "Number of ASK posts created by hour:  {'02': 269, '01': 282, '22': 383, '21': 518, '19': 552, '17': 587, '15': 646, '14': 513, '13': 444, '11': 312, '10': 282, '09': 222, '07': 226, '03': 271, '23': 343, '20': 510, '16': 579, '08': 257, '00': 301, '18': 614, '12': 342, '04': 243, '06': 234, '05': 209}\n",
      "\n",
      "Number of comments received by hour:  {'02': 2996, '01': 2089, '22': 3372, '21': 4500, '19': 3954, '17': 5547, '15': 18525, '14': 4972, '13': 7245, '11': 2797, '10': 3013, '09': 1477, '07': 1585, '03': 2154, '23': 2297, '20': 4462, '16': 4466, '08': 2362, '00': 2277, '18': 4877, '12': 4234, '04': 2360, '06': 1587, '05': 1838}\n"
     ]
    }
   ],
   "source": [
    "import datetime as dt\n",
    "\n",
    "result_list = []\n",
    "\n",
    "for each_row in ask_posts:\n",
    "    created_at = each_row[6]\n",
    "    num_comments = int(each_row[4])\n",
    "    result_list.append([created_at, num_comments])\n",
    "       \n",
    "counts_by_hour = {}          #contains the number of ASK posts created during each hour of the day.\n",
    "comments_by_hour = {}        #contains the corresponding number of comments ASK posts created at each hour received.\n",
    "\n",
    "for each_row in result_list:\n",
    "    my_datetime_object = dt.datetime.strptime(each_row[0], \"%m/%d/%Y %H:%M\")\n",
    "    \n",
    "    #Using the datetime.strftime() method to select just the hour from the datetime object.\n",
    "    hour_str = my_datetime_object.strftime(\"%H\")\n",
    "    \n",
    "    if hour_str in counts_by_hour:\n",
    "        counts_by_hour[hour_str] += 1\n",
    "        comments_by_hour[hour_str] += each_row[1]\n",
    "    else:\n",
    "        counts_by_hour[hour_str] = 1\n",
    "        comments_by_hour[hour_str] = each_row[1]\n",
    "    \n",
    "print('Number of ASK posts created by hour: ', counts_by_hour)\n",
    "print('\\nNumber of comments received by hour: ', comments_by_hour)\n",
    "    "
   ]
  },
  {
   "cell_type": "markdown",
   "metadata": {},
   "source": [
    "Using the two dictionaries(`counts_by_hour` and `comments_by_hour`), the next step is to calculate the average number of comments for posts created during each hour of the day."
   ]
  },
  {
   "cell_type": "code",
   "execution_count": 26,
   "metadata": {},
   "outputs": [
    {
     "name": "stdout",
     "output_type": "stream",
     "text": [
      "[['02', 11.137546468401487], ['01', 7.407801418439717], ['22', 8.804177545691905], ['21', 8.687258687258687], ['19', 7.163043478260869], ['17', 9.449744463373083], ['15', 28.676470588235293], ['14', 9.692007797270955], ['13', 16.31756756756757], ['11', 8.96474358974359], ['10', 10.684397163120567], ['09', 6.653153153153153], ['07', 7.013274336283186], ['03', 7.948339483394834], ['23', 6.696793002915452], ['20', 8.749019607843136], ['16', 7.713298791018998], ['08', 9.190661478599221], ['00', 7.5647840531561465], ['18', 7.94299674267101], ['12', 12.380116959064328], ['04', 9.7119341563786], ['06', 6.782051282051282], ['05', 8.794258373205741]]\n"
     ]
    }
   ],
   "source": [
    "avg_by_hour= []\n",
    "\n",
    "for each_key in counts_by_hour:\n",
    "    avg_num_comments = comments_by_hour[each_key] / counts_by_hour[each_key]\n",
    "    avg_by_hour.append([each_key, avg_num_comments])\n",
    "    \n",
    "print(avg_by_hour)"
   ]
  },
  {
   "cell_type": "markdown",
   "metadata": {},
   "source": [
    "Although the results needed are as above, this format makes it hard to identify the hours with the highest values. Therefore, in the last step, the list of lists is sorted and the five highest values are printed in a format that's easier to read."
   ]
  },
  {
   "cell_type": "code",
   "execution_count": 28,
   "metadata": {},
   "outputs": [
    {
     "name": "stdout",
     "output_type": "stream",
     "text": [
      "[[11.137546468401487, '02'], [7.407801418439717, '01'], [8.804177545691905, '22'], [8.687258687258687, '21'], [7.163043478260869, '19'], [9.449744463373083, '17'], [28.676470588235293, '15'], [9.692007797270955, '14'], [16.31756756756757, '13'], [8.96474358974359, '11'], [10.684397163120567, '10'], [6.653153153153153, '09'], [7.013274336283186, '07'], [7.948339483394834, '03'], [6.696793002915452, '23'], [8.749019607843136, '20'], [7.713298791018998, '16'], [9.190661478599221, '08'], [7.5647840531561465, '00'], [7.94299674267101, '18'], [12.380116959064328, '12'], [9.7119341563786, '04'], [6.782051282051282, '06'], [8.794258373205741, '05']]\n"
     ]
    }
   ],
   "source": [
    "swap_avg_by_hour = []\n",
    "\n",
    "for each_row in avg_by_hour:\n",
    "    swap_avg_by_hour.append([each_row[1],each_row[0]])\n",
    "    \n",
    "print(swap_avg_by_hour)"
   ]
  },
  {
   "cell_type": "markdown",
   "metadata": {},
   "source": [
    "Using the `sorted()` function to sort `swap_avg_by_hour` in descending order. Since the first column of this list is the average number of comments, sorting the list will sort by the average number of comments."
   ]
  },
  {
   "cell_type": "code",
   "execution_count": 30,
   "metadata": {},
   "outputs": [
    {
     "name": "stdout",
     "output_type": "stream",
     "text": [
      "15 : 28.676470588235293\n",
      "13 : 16.31756756756757\n",
      "12 : 12.380116959064328\n",
      "02 : 11.137546468401487\n",
      "10 : 10.684397163120567\n",
      "04 : 9.7119341563786\n",
      "14 : 9.692007797270955\n",
      "17 : 9.449744463373083\n",
      "08 : 9.190661478599221\n",
      "11 : 8.96474358974359\n",
      "22 : 8.804177545691905\n",
      "05 : 8.794258373205741\n",
      "20 : 8.749019607843136\n",
      "21 : 8.687258687258687\n",
      "03 : 7.948339483394834\n",
      "18 : 7.94299674267101\n",
      "16 : 7.713298791018998\n",
      "00 : 7.5647840531561465\n",
      "01 : 7.407801418439717\n",
      "19 : 7.163043478260869\n",
      "07 : 7.013274336283186\n",
      "06 : 6.782051282051282\n",
      "23 : 6.696793002915452\n",
      "09 : 6.653153153153153\n"
     ]
    }
   ],
   "source": [
    "sorted_swap = sorted(swap_avg_by_hour, reverse = True)\n",
    "for each_entry in sorted_swap:\n",
    "    print(each_entry[1], ':' ,each_entry[0])"
   ]
  },
  {
   "cell_type": "code",
   "execution_count": 51,
   "metadata": {},
   "outputs": [
    {
     "name": "stdout",
     "output_type": "stream",
     "text": [
      "Top five Hours for Ask Posts Comments:\n",
      "\n",
      "15:00: 28.68 average comments per post.\n",
      "13:00: 16.32 average comments per post.\n",
      "12:00: 12.38 average comments per post.\n",
      "02:00: 11.14 average comments per post.\n",
      "10:00: 10.68 average comments per post.\n"
     ]
    }
   ],
   "source": [
    "print('Top five Hours for Ask Posts Comments:\\n')\n",
    "\n",
    "tempelate =\"{time}: {avg:.2f} average comments per post.\" \n",
    "output_list_format = []\n",
    "\n",
    "for each_entry in sorted_swap:\n",
    "    avg_comments = each_entry[0]\n",
    "    my_hour_object = dt.datetime.strptime(each_entry[1], '%H')\n",
    "    hour_str = my_hour_object.strftime(\"%H:%M\")\n",
    "    \n",
    "    output = tempelate.format(time = hour_str, avg = avg_comments)\n",
    "    output_list_format.append(output)\n",
    "    \n",
    "for x in range (0, 5):\n",
    "    print(output_list[x])\n",
    "    "
   ]
  },
  {
   "cell_type": "markdown",
   "metadata": {},
   "source": [
    "## Conclusion\n",
    "From the analysis above, It is observed that creating a post at 15:00, 13:00, 12:00, 02:00 and 10:00 will result in having a higher chance of receiving comments."
   ]
  },
  {
   "cell_type": "code",
   "execution_count": null,
   "metadata": {},
   "outputs": [],
   "source": []
  }
 ],
 "metadata": {
  "kernelspec": {
   "display_name": "Python 3",
   "language": "python",
   "name": "python3"
  },
  "language_info": {
   "codemirror_mode": {
    "name": "ipython",
    "version": 3
   },
   "file_extension": ".py",
   "mimetype": "text/x-python",
   "name": "python",
   "nbconvert_exporter": "python",
   "pygments_lexer": "ipython3",
   "version": "3.7.3"
  }
 },
 "nbformat": 4,
 "nbformat_minor": 2
}
